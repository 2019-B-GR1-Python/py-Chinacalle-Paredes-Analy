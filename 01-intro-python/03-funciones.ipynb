{
 "cells": [
  {
   "cell_type": "code",
   "execution_count": 5,
   "metadata": {
    "scrolled": true
   },
   "outputs": [
    {
     "name": "stdout",
     "output_type": "stream",
     "text": [
      "Hola cara de moco\n",
      "Hola cara de moco\n"
     ]
    },
    {
     "data": {
      "text/plain": [
       "NoneType"
      ]
     },
     "execution_count": 5,
     "metadata": {},
     "output_type": "execute_result"
    }
   ],
   "source": [
    "def hola_mundo():\n",
    "    print('Hola cara de moco')\n",
    "    \n",
    "hola_mundo()\n",
    "\n",
    "type(hola_mundo())"
   ]
  },
  {
   "cell_type": "code",
   "execution_count": 11,
   "metadata": {},
   "outputs": [
    {
     "name": "stdout",
     "output_type": "stream",
     "text": [
      "total 3\n"
     ]
    }
   ],
   "source": [
    "def sumar_dos_numeros(num_uno, num_dos): #argumentos requeridos\n",
    "    return num_dos + num_uno\n",
    "suma = sumar_dos_numeros(1,2)\n",
    "print(f\"total {suma}\")"
   ]
  },
  {
   "cell_type": "code",
   "execution_count": 14,
   "metadata": {},
   "outputs": [
    {
     "name": "stdout",
     "output_type": "stream",
     "text": [
      "EPN\n",
      "prince\n"
     ]
    }
   ],
   "source": [
    "def imprimir_universidad(nombre = 'EPN'):\n",
    "    print(f\"{nombre}\")\n",
    "    \n",
    "imprimir_universidad()\n",
    "imprimir_universidad('prince')"
   ]
  },
  {
   "cell_type": "code",
   "execution_count": 26,
   "metadata": {},
   "outputs": [
    {
     "name": "stdout",
     "output_type": "stream",
     "text": [
      "Color: azul, Placa: PAD-123, Caballos fuerza: 2000\n",
      "Año: 2010\n",
      "Color: gris, Placa: PAD-2345, Caballos fuerza: 1233\n",
      "Año: 1999\n",
      "Color: verde, Placa: ASD-123, Caballos fuerza: 123\n",
      "Año: 2013\n"
     ]
    }
   ],
   "source": [
    "def imprimir_carro(color, placa, hp, anio = 1999):\n",
    "    print(f\"Color: {color}, Placa: {placa}, Caballos fuerza: {hp}\")\n",
    "    print(f\"Año: {anio}\")\n",
    "    \n",
    "imprimir_carro('azul', 'PAD-123', 2000, 2010)\n",
    "# parametros por posicion '','',''\n",
    "imprimir_carro(\n",
    "              placa='PAD-2345',\n",
    "              hp=1233,\n",
    "              color='gris')\n",
    "# parametros nombrados asd= 'asd'\n",
    "imprimir_carro('verde', 'ASD-123', anio=2013, hp=123)"
   ]
  },
  {
   "cell_type": "code",
   "execution_count": 44,
   "metadata": {},
   "outputs": [
    {
     "name": "stdout",
     "output_type": "stream",
     "text": [
      "<class 'tuple'>\n",
      "<class 'dict'>\n"
     ]
    },
    {
     "data": {
      "text/plain": [
       "10"
      ]
     },
     "execution_count": 44,
     "metadata": {},
     "output_type": "execute_result"
    }
   ],
   "source": [
    "def sumar(primer_numero, *numeros, **matri):\n",
    "    # print(numeros)\n",
    "    # print(type(primer_numero))\n",
    "    print(type(numeros))\n",
    "    print(type(matri))\n",
    "    longitud = len(numeros)\n",
    "    if(longitud == 0):\n",
    "        return primer_numero\n",
    "    else:\n",
    "        suma = primer_numero\n",
    "        for numero in numeros:\n",
    "            suma = suma + numero\n",
    "        return suma\n",
    "    \n",
    "sumar(1,2,3,4)\n"
   ]
  },
  {
   "cell_type": "code",
   "execution_count": 50,
   "metadata": {},
   "outputs": [
    {
     "name": "stdout",
     "output_type": "stream",
     "text": [
      "<class 'dict'>\n",
      "{'tiempo_espera': 10, 'algo': '2'}\n"
     ]
    }
   ],
   "source": [
    "def imprimir_configuracion(nombre,\n",
    "                          valor = 10,\n",
    "#                           *valores_carga,\n",
    "                          **keyword_arguments):\n",
    "    print(type(keyword_arguments)) \n",
    "    print(keyword_arguments)\n",
    "\n",
    "imprimir_configuracion('config_1',\n",
    "                      valor=20,\n",
    "                    \n",
    "                      tiempo_espera = 10,\n",
    "                      algo = '2',)"
   ]
  },
  {
   "cell_type": "code",
   "execution_count": null,
   "metadata": {},
   "outputs": [],
   "source": []
  },
  {
   "cell_type": "code",
   "execution_count": null,
   "metadata": {},
   "outputs": [],
   "source": []
  },
  {
   "cell_type": "code",
   "execution_count": null,
   "metadata": {},
   "outputs": [],
   "source": []
  },
  {
   "cell_type": "code",
   "execution_count": null,
   "metadata": {},
   "outputs": [],
   "source": []
  },
  {
   "cell_type": "code",
   "execution_count": null,
   "metadata": {},
   "outputs": [],
   "source": []
  },
  {
   "cell_type": "code",
   "execution_count": null,
   "metadata": {},
   "outputs": [],
   "source": []
  },
  {
   "cell_type": "code",
   "execution_count": null,
   "metadata": {},
   "outputs": [],
   "source": []
  }
 ],
 "metadata": {
  "kernelspec": {
   "display_name": "Python 3",
   "language": "python",
   "name": "python3"
  },
  "language_info": {
   "codemirror_mode": {
    "name": "ipython",
    "version": 3
   },
   "file_extension": ".py",
   "mimetype": "text/x-python",
   "name": "python",
   "nbconvert_exporter": "python",
   "pygments_lexer": "ipython3",
   "version": "3.7.3"
  }
 },
 "nbformat": 4,
 "nbformat_minor": 2
}
