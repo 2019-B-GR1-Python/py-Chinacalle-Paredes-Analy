{
 "cells": [
  {
   "cell_type": "code",
   "execution_count": 1,
   "metadata": {},
   "outputs": [
    {
     "name": "stdout",
     "output_type": "stream",
     "text": [
      "Requirement already satisfied: jupyter_contrib_nbextensions in c:\\users\\usrbet.labfis\\appdata\\local\\continuum\\anaconda3\\lib\\site-packages (0.5.1)\n",
      "Requirement already satisfied: ipython_genutils in c:\\users\\usrbet.labfis\\appdata\\local\\continuum\\anaconda3\\lib\\site-packages (from jupyter_contrib_nbextensions) (0.2.0)\n",
      "Requirement already satisfied: jupyter_contrib_core>=0.3.3 in c:\\users\\usrbet.labfis\\appdata\\local\\continuum\\anaconda3\\lib\\site-packages (from jupyter_contrib_nbextensions) (0.3.3)\n",
      "Requirement already satisfied: jupyter_core in c:\\users\\usrbet.labfis\\appdata\\local\\continuum\\anaconda3\\lib\\site-packages (from jupyter_contrib_nbextensions) (4.5.0)\n",
      "Requirement already satisfied: jupyter_highlight_selected_word>=0.1.1 in c:\\users\\usrbet.labfis\\appdata\\local\\continuum\\anaconda3\\lib\\site-packages (from jupyter_contrib_nbextensions) (0.2.0)\n",
      "Requirement already satisfied: jupyter_latex_envs>=1.3.8 in c:\\users\\usrbet.labfis\\appdata\\local\\continuum\\anaconda3\\lib\\site-packages (from jupyter_contrib_nbextensions) (1.4.4)\n",
      "Requirement already satisfied: jupyter_nbextensions_configurator>=0.4.0 in c:\\users\\usrbet.labfis\\appdata\\local\\continuum\\anaconda3\\lib\\site-packages (from jupyter_contrib_nbextensions) (0.4.1)\n",
      "Requirement already satisfied: nbconvert>=4.2 in c:\\users\\usrbet.labfis\\appdata\\local\\continuum\\anaconda3\\lib\\site-packages (from jupyter_contrib_nbextensions) (5.5.0)\n",
      "Requirement already satisfied: notebook>=4.0 in c:\\users\\usrbet.labfis\\appdata\\local\\continuum\\anaconda3\\lib\\site-packages (from jupyter_contrib_nbextensions) (6.0.0)\n",
      "Requirement already satisfied: pyyaml in c:\\users\\usrbet.labfis\\appdata\\local\\continuum\\anaconda3\\lib\\site-packages (from jupyter_contrib_nbextensions) (5.1.1)\n",
      "Requirement already satisfied: tornado in c:\\users\\usrbet.labfis\\appdata\\local\\continuum\\anaconda3\\lib\\site-packages (from jupyter_contrib_nbextensions) (6.0.3)\n",
      "Requirement already satisfied: traitlets>=4.1 in c:\\users\\usrbet.labfis\\appdata\\local\\continuum\\anaconda3\\lib\\site-packages (from jupyter_contrib_nbextensions) (4.3.2)\n",
      "Requirement already satisfied: lxml in c:\\users\\usrbet.labfis\\appdata\\local\\continuum\\anaconda3\\lib\\site-packages (from jupyter_contrib_nbextensions) (4.3.4)\n",
      "Requirement already satisfied: setuptools in c:\\users\\usrbet.labfis\\appdata\\local\\continuum\\anaconda3\\lib\\site-packages (from jupyter_contrib_core>=0.3.3->jupyter_contrib_nbextensions) (41.0.1)\n",
      "Requirement already satisfied: ipython in c:\\users\\usrbet.labfis\\appdata\\local\\continuum\\anaconda3\\lib\\site-packages (from jupyter_latex_envs>=1.3.8->jupyter_contrib_nbextensions) (7.6.1)\n",
      "Requirement already satisfied: jinja2>=2.4 in c:\\users\\usrbet.labfis\\appdata\\local\\continuum\\anaconda3\\lib\\site-packages (from nbconvert>=4.2->jupyter_contrib_nbextensions) (2.10.1)\n",
      "Requirement already satisfied: bleach in c:\\users\\usrbet.labfis\\appdata\\local\\continuum\\anaconda3\\lib\\site-packages (from nbconvert>=4.2->jupyter_contrib_nbextensions) (3.1.0)\n",
      "Requirement already satisfied: entrypoints>=0.2.2 in c:\\users\\usrbet.labfis\\appdata\\local\\continuum\\anaconda3\\lib\\site-packages (from nbconvert>=4.2->jupyter_contrib_nbextensions) (0.3)\n",
      "Requirement already satisfied: pygments in c:\\users\\usrbet.labfis\\appdata\\local\\continuum\\anaconda3\\lib\\site-packages (from nbconvert>=4.2->jupyter_contrib_nbextensions) (2.4.2)\n",
      "Requirement already satisfied: pandocfilters>=1.4.1 in c:\\users\\usrbet.labfis\\appdata\\local\\continuum\\anaconda3\\lib\\site-packages (from nbconvert>=4.2->jupyter_contrib_nbextensions) (1.4.2)\n",
      "Requirement already satisfied: mistune>=0.8.1 in c:\\users\\usrbet.labfis\\appdata\\local\\continuum\\anaconda3\\lib\\site-packages (from nbconvert>=4.2->jupyter_contrib_nbextensions) (0.8.4)\n",
      "Requirement already satisfied: defusedxml in c:\\users\\usrbet.labfis\\appdata\\local\\continuum\\anaconda3\\lib\\site-packages (from nbconvert>=4.2->jupyter_contrib_nbextensions) (0.6.0)\n",
      "Requirement already satisfied: nbformat>=4.4 in c:\\users\\usrbet.labfis\\appdata\\local\\continuum\\anaconda3\\lib\\site-packages (from nbconvert>=4.2->jupyter_contrib_nbextensions) (4.4.0)\n",
      "Requirement already satisfied: testpath in c:\\users\\usrbet.labfis\\appdata\\local\\continuum\\anaconda3\\lib\\site-packages (from nbconvert>=4.2->jupyter_contrib_nbextensions) (0.4.2)\n",
      "Requirement already satisfied: prometheus-client in c:\\users\\usrbet.labfis\\appdata\\local\\continuum\\anaconda3\\lib\\site-packages (from notebook>=4.0->jupyter_contrib_nbextensions) (0.7.1)\n",
      "Requirement already satisfied: jupyter-client>=5.3.1 in c:\\users\\usrbet.labfis\\appdata\\local\\continuum\\anaconda3\\lib\\site-packages (from notebook>=4.0->jupyter_contrib_nbextensions) (5.3.1)\n",
      "Requirement already satisfied: ipykernel in c:\\users\\usrbet.labfis\\appdata\\local\\continuum\\anaconda3\\lib\\site-packages (from notebook>=4.0->jupyter_contrib_nbextensions) (5.1.1)\n",
      "Requirement already satisfied: terminado>=0.8.1 in c:\\users\\usrbet.labfis\\appdata\\local\\continuum\\anaconda3\\lib\\site-packages (from notebook>=4.0->jupyter_contrib_nbextensions) (0.8.2)\n",
      "Requirement already satisfied: Send2Trash in c:\\users\\usrbet.labfis\\appdata\\local\\continuum\\anaconda3\\lib\\site-packages (from notebook>=4.0->jupyter_contrib_nbextensions) (1.5.0)\n",
      "Requirement already satisfied: pyzmq>=17 in c:\\users\\usrbet.labfis\\appdata\\local\\continuum\\anaconda3\\lib\\site-packages (from notebook>=4.0->jupyter_contrib_nbextensions) (18.0.0)\n",
      "Requirement already satisfied: six in c:\\users\\usrbet.labfis\\appdata\\local\\continuum\\anaconda3\\lib\\site-packages (from traitlets>=4.1->jupyter_contrib_nbextensions) (1.12.0)\n",
      "Requirement already satisfied: decorator in c:\\users\\usrbet.labfis\\appdata\\local\\continuum\\anaconda3\\lib\\site-packages (from traitlets>=4.1->jupyter_contrib_nbextensions) (4.4.0)\n",
      "Requirement already satisfied: pickleshare in c:\\users\\usrbet.labfis\\appdata\\local\\continuum\\anaconda3\\lib\\site-packages (from ipython->jupyter_latex_envs>=1.3.8->jupyter_contrib_nbextensions) (0.7.5)\n",
      "Requirement already satisfied: prompt-toolkit<2.1.0,>=2.0.0 in c:\\users\\usrbet.labfis\\appdata\\local\\continuum\\anaconda3\\lib\\site-packages (from ipython->jupyter_latex_envs>=1.3.8->jupyter_contrib_nbextensions) (2.0.9)\n",
      "Requirement already satisfied: jedi>=0.10 in c:\\users\\usrbet.labfis\\appdata\\local\\continuum\\anaconda3\\lib\\site-packages (from ipython->jupyter_latex_envs>=1.3.8->jupyter_contrib_nbextensions) (0.13.3)\n",
      "Requirement already satisfied: colorama; sys_platform == \"win32\" in c:\\users\\usrbet.labfis\\appdata\\local\\continuum\\anaconda3\\lib\\site-packages (from ipython->jupyter_latex_envs>=1.3.8->jupyter_contrib_nbextensions) (0.4.1)\n",
      "Requirement already satisfied: backcall in c:\\users\\usrbet.labfis\\appdata\\local\\continuum\\anaconda3\\lib\\site-packages (from ipython->jupyter_latex_envs>=1.3.8->jupyter_contrib_nbextensions) (0.1.0)\n",
      "Requirement already satisfied: MarkupSafe>=0.23 in c:\\users\\usrbet.labfis\\appdata\\local\\continuum\\anaconda3\\lib\\site-packages (from jinja2>=2.4->nbconvert>=4.2->jupyter_contrib_nbextensions) (1.1.1)\n",
      "Requirement already satisfied: webencodings in c:\\users\\usrbet.labfis\\appdata\\local\\continuum\\anaconda3\\lib\\site-packages (from bleach->nbconvert>=4.2->jupyter_contrib_nbextensions) (0.5.1)\n",
      "Requirement already satisfied: jsonschema!=2.5.0,>=2.4 in c:\\users\\usrbet.labfis\\appdata\\local\\continuum\\anaconda3\\lib\\site-packages (from nbformat>=4.4->nbconvert>=4.2->jupyter_contrib_nbextensions) (3.0.1)\n",
      "Requirement already satisfied: python-dateutil>=2.1 in c:\\users\\usrbet.labfis\\appdata\\local\\continuum\\anaconda3\\lib\\site-packages (from jupyter-client>=5.3.1->notebook>=4.0->jupyter_contrib_nbextensions) (2.8.0)\n",
      "Requirement already satisfied: wcwidth in c:\\users\\usrbet.labfis\\appdata\\local\\continuum\\anaconda3\\lib\\site-packages (from prompt-toolkit<2.1.0,>=2.0.0->ipython->jupyter_latex_envs>=1.3.8->jupyter_contrib_nbextensions) (0.1.7)\n",
      "Requirement already satisfied: parso>=0.3.0 in c:\\users\\usrbet.labfis\\appdata\\local\\continuum\\anaconda3\\lib\\site-packages (from jedi>=0.10->ipython->jupyter_latex_envs>=1.3.8->jupyter_contrib_nbextensions) (0.5.0)\n",
      "Requirement already satisfied: attrs>=17.4.0 in c:\\users\\usrbet.labfis\\appdata\\local\\continuum\\anaconda3\\lib\\site-packages (from jsonschema!=2.5.0,>=2.4->nbformat>=4.4->nbconvert>=4.2->jupyter_contrib_nbextensions) (19.1.0)\n",
      "Requirement already satisfied: pyrsistent>=0.14.0 in c:\\users\\usrbet.labfis\\appdata\\local\\continuum\\anaconda3\\lib\\site-packages (from jsonschema!=2.5.0,>=2.4->nbformat>=4.4->nbconvert>=4.2->jupyter_contrib_nbextensions) (0.14.11)\n",
      "Note: you may need to restart the kernel to use updated packages.\n"
     ]
    }
   ],
   "source": [
    "pip install jupyter_contrib_nbextensions"
   ]
  },
  {
   "cell_type": "code",
   "execution_count": 1,
   "metadata": {},
   "outputs": [
    {
     "name": "stdout",
     "output_type": "stream",
     "text": [
      "Hola Mundo\n"
     ]
    }
   ],
   "source": [
    "print('Hola Mundo')"
   ]
  },
  {
   "cell_type": "code",
   "execution_count": 3,
   "metadata": {},
   "outputs": [
    {
     "name": "stdout",
     "output_type": "stream",
     "text": [
      "<class 'int'>\n",
      "<class 'float'>\n",
      "<class 'str'>\n",
      "<class 'str'>\n",
      "<class 'bool'>\n",
      "<class 'bool'>\n",
      "<class 'NoneType'>\n"
     ]
    }
   ],
   "source": [
    "## Variables primitivas\n",
    "entero = 3\n",
    "decimal = 1.1\n",
    "nombre = 'Analy'\n",
    "segundo_apellido = 'Paredes'\n",
    "casado = False\n",
    "estudiante = True\n",
    "hijos = None\n",
    "\n",
    "print(type(entero))  # int\n",
    "print(type(decimal))  # float\n",
    "print(type(nombre))  # str\n",
    "print(type(segundo_apellido))  # str\n",
    "print(type(casado))  # bool\n",
    "print(type(estudiante))  # bool\n",
    "print(type(hijos))  # NoneType\n",
    "\n",
    "\"\"\"\n",
    "bloque de comentarios\n",
    "\"\"\""
   ]
  },
  {
   "cell_type": "code",
   "execution_count": 4,
   "metadata": {},
   "outputs": [
    {
     "name": "stdout",
     "output_type": "stream",
     "text": [
      "3\n",
      "1.1\n",
      "Analy\n"
     ]
    }
   ],
   "source": [
    "print(entero)\n",
    "entero = decimal\n",
    "print(entero)\n",
    "entero = nombre\n",
    "print(entero)"
   ]
  },
  {
   "cell_type": "code",
   "execution_count": 16,
   "metadata": {},
   "outputs": [
    {
     "name": "stdout",
     "output_type": "stream",
     "text": [
      "falsy\n",
      "truty\n",
      "falsy\n",
      "truty\n",
      "truty\n",
      "falsy\n",
      "falsy\n",
      "truty\n",
      "falsy\n",
      "truty\n"
     ]
    }
   ],
   "source": [
    "tuplas = ()\n",
    "listas = []\n",
    "diccionario = {}\n",
    "\"\"\"\n",
    "print(type(tuplas))  # tuple\n",
    "print(type(listas))  # list\n",
    "print(type(diccionario))  #dict\n",
    "\"\"\"\n",
    "# Condiciones no necesitan ser booleanas\n",
    "if(''):  # falsy\n",
    "    print('truty')\n",
    "else:\n",
    "    print('falsy')\n",
    "\n",
    "if('w'):  #truty\n",
    "    print('truty')\n",
    "else:\n",
    "    print('falsy')\n",
    "\n",
    "if(0):  # falsy\n",
    "    print('truty')\n",
    "else:\n",
    "    print('falsy')\n",
    "    \n",
    "if(-1):  # truty\n",
    "    print('truty')\n",
    "else:\n",
    "    print('falsy')\n",
    "    \n",
    "if(0.01):  # truty\n",
    "    print('truty')\n",
    "else:\n",
    "    print('falsy')\n",
    "    \n",
    "if(None):  # falsy\n",
    "    print('truty')\n",
    "else:\n",
    "    print('falsy')\n",
    "    \n",
    "if(()):  # falsy\n",
    "    print('truty')\n",
    "else:\n",
    "    print('falsy')\n",
    "    \n",
    "if((1,2,3)):  # truty\n",
    "    print('truty')\n",
    "else:\n",
    "    print('falsy')\n",
    "    \n",
    "if({}):  # falsy\n",
    "    print('truty')\n",
    "else:\n",
    "    print('falsy')\n",
    "    \n",
    "if({nombre: 'asd'}):  # truty\n",
    "    print('truty')\n",
    "else:\n",
    "    print('falsy')\n",
    "\n"
   ]
  },
  {
   "cell_type": "code",
   "execution_count": 25,
   "metadata": {},
   "outputs": [
    {
     "data": {
      "text/plain": [
       "[3, 4, 5, 6, 7, 8, 9]"
      ]
     },
     "execution_count": 25,
     "metadata": {},
     "output_type": "execute_result"
    }
   ],
   "source": [
    "# Listas\n",
    "arreglo = [1, 2, 3, 4, 5, 6, 7, 8, 9, 10]\n",
    "arreglo[2:5]  # filtrar ([2, 5[)\n",
    "arreglo[2:]\n",
    "arreglo[:7]\n",
    "arreglo[-1]\n",
    "arreglo[2:-1]\n",
    "arreglo[-8:-1]"
   ]
  },
  {
   "cell_type": "code",
   "execution_count": null,
   "metadata": {},
   "outputs": [],
   "source": []
  }
 ],
 "metadata": {
  "kernelspec": {
   "display_name": "Python 3",
   "language": "python",
   "name": "python3"
  },
  "language_info": {
   "codemirror_mode": {
    "name": "ipython",
    "version": 3
   },
   "file_extension": ".py",
   "mimetype": "text/x-python",
   "name": "python",
   "nbconvert_exporter": "python",
   "pygments_lexer": "ipython3",
   "version": "3.7.3"
  }
 },
 "nbformat": 4,
 "nbformat_minor": 2
}
