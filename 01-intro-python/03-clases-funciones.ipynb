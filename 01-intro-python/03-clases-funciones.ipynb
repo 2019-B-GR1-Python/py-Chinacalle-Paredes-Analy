{
 "cells": [
  {
   "cell_type": "code",
   "execution_count": 37,
   "metadata": {
    "scrolled": true
   },
   "outputs": [
    {
     "name": "stdout",
     "output_type": "stream",
     "text": [
      "Empezo el constructor\n",
      "Color: azul\n",
      "Chasis: 1\n",
      "14\n"
     ]
    }
   ],
   "source": [
    "class Auto:\n",
    "    color = None\n",
    "    __numero_chasis = 1 # privado\n",
    "    _emitido = False # protected\n",
    "    \n",
    "    def __init__(self, color): # self = this\n",
    "        print('Empezo el constructor')\n",
    "        # print(self.color)\n",
    "        self.color = color\n",
    "        \n",
    "    def __str__(self):\n",
    "        return (f\"Color: {self.color}\\nChasis: {self.__numero_chasis}\")\n",
    "    \n",
    "    def numero_chasis_impuesto(self): # función publica --> no tiene __\n",
    "        return self.__numero_chasis\n",
    "    \n",
    "    def __calcular_impuesto(self):\n",
    "        return 14 * self.__numero_chasis\n",
    "\n",
    "nuevo_auto = Auto('azul')\n",
    "print(nuevo_auto)\n",
    "# print(nuevo_auto.__calcular_impuesto) # no accede xq es metodo privado\n",
    "print(nuevo_auto._Auto__calcular_impuesto())\n",
    "# print(nuevo_auto.__numero_chasis) # no se accede xq es atributo privado\n",
    "# print(nuevo_auto._Auto__numero_chasis)"
   ]
  },
  {
   "cell_type": "code",
   "execution_count": 25,
   "metadata": {},
   "outputs": [],
   "source": [
    "class BMW(Auto):\n",
    "    def __init__(self, color = \"Plateado\"):\n",
    "        print(\"Iniciando BMW\")\n",
    "        super().__init__(color)\n",
    "        super().__str__()"
   ]
  },
  {
   "cell_type": "code",
   "execution_count": 27,
   "metadata": {},
   "outputs": [
    {
     "name": "stdout",
     "output_type": "stream",
     "text": [
      "Iniciando BMW\n",
      "Empezo el constructor\n",
      "Color: Plateado\n",
      "Chasis: 1\n"
     ]
    }
   ],
   "source": [
    "carrito = BMW()\n",
    "print(carrito)"
   ]
  },
  {
   "cell_type": "code",
   "execution_count": 53,
   "metadata": {},
   "outputs": [],
   "source": [
    "# Funciones dentro de funciones\n",
    "def calculadora(num_uno, num_dos, operacion = \"suma\"):\n",
    "    def suma():\n",
    "        return num_uno + num_dos\n",
    "    def resta():\n",
    "        return num_uno - num_dos\n",
    "    def multiplicacion():\n",
    "        return num_uno * num_dos\n",
    "    def division():\n",
    "        return num_uno / num_dos\n",
    "    def opcion_seleccionada():\n",
    "        # \"\"\" forma simplificada\n",
    "        return {\n",
    "            'suma': suma(),\n",
    "            'resta': resta(),\n",
    "            'multiplicacion': multiplicacion(),\n",
    "            'division': division()\n",
    "        }[operacion]\n",
    "        # \"\"\"\n",
    "        \n",
    "        \"\"\"\n",
    "        opciones = {\n",
    "            'suma': suma(),\n",
    "            'resta': resta(),\n",
    "            'multiplicacion': multiplicacion(),\n",
    "            'division': division()\n",
    "        }\n",
    "        return opciones[operacion];\n",
    "        \"\"\"\n",
    "    \n",
    "    return opcion_seleccionada()\n"
   ]
  },
  {
   "cell_type": "code",
   "execution_count": 61,
   "metadata": {},
   "outputs": [
    {
     "name": "stdout",
     "output_type": "stream",
     "text": [
      "8\n"
     ]
    }
   ],
   "source": [
    "print(calculadora(4,2, \"multiplicacion\"))"
   ]
  },
  {
   "cell_type": "code",
   "execution_count": 62,
   "metadata": {},
   "outputs": [
    {
     "name": "stdout",
     "output_type": "stream",
     "text": [
      "holii 5\n"
     ]
    },
    {
     "data": {
      "text/plain": [
       "'5'"
      ]
     },
     "execution_count": 62,
     "metadata": {},
     "output_type": "execute_result"
    }
   ],
   "source": [
    "input(\"holii \")"
   ]
  },
  {
   "cell_type": "code",
   "execution_count": null,
   "metadata": {},
   "outputs": [],
   "source": []
  }
 ],
 "metadata": {
  "kernelspec": {
   "display_name": "Python 3",
   "language": "python",
   "name": "python3"
  },
  "language_info": {
   "codemirror_mode": {
    "name": "ipython",
    "version": 3
   },
   "file_extension": ".py",
   "mimetype": "text/x-python",
   "name": "python",
   "nbconvert_exporter": "python",
   "pygments_lexer": "ipython3",
   "version": "3.7.3"
  }
 },
 "nbformat": 4,
 "nbformat_minor": 2
}
