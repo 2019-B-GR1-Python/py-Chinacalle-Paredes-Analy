{
 "cells": [
  {
   "cell_type": "code",
   "execution_count": 2,
   "metadata": {},
   "outputs": [
    {
     "name": "stdout",
     "output_type": "stream",
     "text": [
      "Requirement already satisfied: PyInquirer in c:\\users\\estudiante\\anaconda3\\lib\\site-packages (1.0.3)\n",
      "Requirement already satisfied: regex>=2016.11.21 in c:\\users\\estudiante\\anaconda3\\lib\\site-packages (from PyInquirer) (2019.11.1)\n",
      "Requirement already satisfied: Pygments>=2.2.0 in c:\\users\\estudiante\\anaconda3\\lib\\site-packages (from PyInquirer) (2.4.2)\n",
      "Requirement already satisfied: prompt-toolkit==1.0.14 in c:\\users\\estudiante\\anaconda3\\lib\\site-packages (from PyInquirer) (1.0.14)\n",
      "Requirement already satisfied: six>=1.9.0 in c:\\users\\estudiante\\anaconda3\\lib\\site-packages (from prompt-toolkit==1.0.14->PyInquirer) (1.12.0)\n",
      "Requirement already satisfied: wcwidth in c:\\users\\estudiante\\anaconda3\\lib\\site-packages (from prompt-toolkit==1.0.14->PyInquirer) (0.1.7)\n",
      "Note: you may need to restart the kernel to use updated packages.\n"
     ]
    }
   ],
   "source": [
    "pip install PyInquirer\n"
   ]
  },
  {
   "cell_type": "code",
   "execution_count": 3,
   "metadata": {},
   "outputs": [
    {
     "name": "stdout",
     "output_type": "stream",
     "text": [
      "Requirement already satisfied: prompt_toolkit==1.0.14 in c:\\users\\estudiante\\anaconda3\\lib\\site-packages (1.0.14)\n",
      "Requirement already satisfied: six>=1.9.0 in c:\\users\\estudiante\\anaconda3\\lib\\site-packages (from prompt_toolkit==1.0.14) (1.12.0)\n",
      "Requirement already satisfied: wcwidth in c:\\users\\estudiante\\anaconda3\\lib\\site-packages (from prompt_toolkit==1.0.14) (0.1.7)\n",
      "Note: you may need to restart the kernel to use updated packages.\n"
     ]
    }
   ],
   "source": [
    "pip install prompt_toolkit==1.0.14\n"
   ]
  },
  {
   "cell_type": "code",
   "execution_count": null,
   "metadata": {},
   "outputs": [],
   "source": [
    "from __future__ import print_function, unicode_literals\n",
    "from PyInquirer import prompt, print_json\n",
    "\n",
    "questions = [\n",
    "    {\n",
    "        'type': 'input',\n",
    "        'name': 'first_name',\n",
    "        'message': 'What\\'s your first name',\n",
    "    }\n",
    "]\n",
    "\n",
    "answers = prompt(questions)\n",
    "\n",
    "#print_json(answers)  # use the answers as input for your app"
   ]
  },
  {
   "cell_type": "code",
   "execution_count": null,
   "metadata": {},
   "outputs": [],
   "source": [
    "print('as')\n",
    "sexo_mascota = ['hembra', 'macho']\n",
    "persona = {\n",
    "    'nombre': '',\n",
    "    'cedula': '',\n",
    "    'fecha': '',\n",
    "    'direccion': '',\n",
    "    'mascotas': []\n",
    "}\n",
    "mascota = {\n",
    "    'nombre': '',\n",
    "    'tipo': '',\n",
    "    'sexo': sexo_mascota[0],\n",
    "    'edadAproximada': ''\n",
    "}\n",
    "personas = []\n",
    "mascotas = []\n",
    "path_mascotas ='./mascotas.json'\n",
    "path_personas = './personas.json'\n"
   ]
  },
  {
   "cell_type": "code",
   "execution_count": null,
   "metadata": {},
   "outputs": [],
   "source": [
    "def abrir_archivo(path):\n",
    "    contenido = None\n",
    "    try:\n",
    "        archivo_abierto = open(path)\n",
    "        contenido = archivo_abierto.readlines()\n",
    "        archivo_abierto.close()\n",
    "    except Exception as error:\n",
    "        print('error en lectura')\n",
    "    return contenido\n",
    "\n",
    "def escribir_archivo(path, contenido):\n",
    "    try:\n",
    "        archivo_escritura = open(path, mode='a')\n",
    "        archivo_escritura.writelines(contenido)\n",
    "        archivo_escritura.close()\n",
    "    except Exception as error:\n",
    "        print('error de escritura')\n",
    "        "
   ]
  },
  {
   "cell_type": "code",
   "execution_count": null,
   "metadata": {},
   "outputs": [],
   "source": [
    "def inicializar_mascotas_personas():\n",
    "    personas.append(abrir_archivo(path_personas))\n",
    "    mascotas.append(abrir_archivo(path_mascotas))\n"
   ]
  },
  {
   "cell_type": "code",
   "execution_count": null,
   "metadata": {},
   "outputs": [],
   "source": [
    "def guardar_persona(respuestas):\n",
    "    persona.nombre = respuestas.nombre\n",
    "    persona.cedula = respuestas.cedula\n",
    "    persona.fecha = respuestas.fecha\n",
    "    persona.direccion = respuestas.direccion\n",
    "    \n",
    "    personas.insert(1,persona)\n",
    "    escribir_archivo(path_personas, personas)\n",
    "\n",
    "def buscar_persona(respuesta):\n",
    "    for persona in personas:\n",
    "        if(persona['nombre'] == respuesta.nombre):\n",
    "            return persona\n",
    "        else:\n",
    "            return False\n",
    "\n",
    "def eliminar_persona(respuesta):\n",
    "    if(!buscar_persona(respuesta)):\n",
    "        return False\n",
    "    else:\n",
    "        personas."
   ]
  }
 ],
 "metadata": {
  "kernelspec": {
   "display_name": "Python 3",
   "language": "python",
   "name": "python3"
  },
  "language_info": {
   "codemirror_mode": {
    "name": "ipython",
    "version": 3
   },
   "file_extension": ".py",
   "mimetype": "text/x-python",
   "name": "python",
   "nbconvert_exporter": "python",
   "pygments_lexer": "ipython3",
   "version": "3.7.4"
  }
 },
 "nbformat": 4,
 "nbformat_minor": 2
}
