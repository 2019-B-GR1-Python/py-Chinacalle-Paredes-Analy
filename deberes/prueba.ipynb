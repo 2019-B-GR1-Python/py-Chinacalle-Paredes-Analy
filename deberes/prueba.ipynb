{
 "cells": [
  {
   "cell_type": "code",
   "execution_count": 4,
   "metadata": {},
   "outputs": [
    {
     "name": "stdout",
     "output_type": "stream",
     "text": [
      "Collecting PyInquirer\n",
      "Collecting prompt-toolkit==1.0.14 (from PyInquirer)\n",
      "  Using cached https://files.pythonhosted.org/packages/ee/3d/b25d35a9f0d381dd1c02d8e04b37c353caaaff4bc32150328eeebe4931f5/prompt_toolkit-1.0.14-py3-none-any.whl\n",
      "Collecting regex>=2016.11.21 (from PyInquirer)\n",
      "  Using cached https://files.pythonhosted.org/packages/5a/2e/391b828ffe99c907e215f6ac2652558754a4a26559f36e55c05292945e41/regex-2019.11.1-cp37-none-win_amd64.whl\n",
      "Requirement already satisfied: Pygments>=2.2.0 in c:\\users\\dell\\anaconda3\\lib\\site-packages (from PyInquirer) (2.4.2)\n",
      "Requirement already satisfied: wcwidth in c:\\users\\dell\\anaconda3\\lib\\site-packages (from prompt-toolkit==1.0.14->PyInquirer) (0.1.7)\n",
      "Requirement already satisfied: six>=1.9.0 in c:\\users\\dell\\anaconda3\\lib\\site-packages (from prompt-toolkit==1.0.14->PyInquirer) (1.12.0)\n",
      "Installing collected packages: prompt-toolkit, regex, PyInquirer\n",
      "  Found existing installation: prompt-toolkit 2.0.10\n",
      "    Uninstalling prompt-toolkit-2.0.10:\n",
      "      Successfully uninstalled prompt-toolkit-2.0.10\n",
      "Successfully installed PyInquirer-1.0.3 prompt-toolkit-1.0.14 regex-2019.11.1\n",
      "Note: you may need to restart the kernel to use updated packages.\n"
     ]
    },
    {
     "name": "stderr",
     "output_type": "stream",
     "text": [
      "ERROR: jupyter-console 6.0.0 has requirement prompt_toolkit<2.1.0,>=2.0.0, but you'll have prompt-toolkit 1.0.14 which is incompatible.\n",
      "ERROR: ipython 7.8.0 has requirement prompt-toolkit<2.1.0,>=2.0.0, but you'll have prompt-toolkit 1.0.14 which is incompatible.\n"
     ]
    }
   ],
   "source": []
  },
  {
   "cell_type": "code",
   "execution_count": 12,
   "metadata": {},
   "outputs": [
    {
     "name": "stdout",
     "output_type": "stream",
     "text": [
      "Requirement already satisfied: prompt_toolkit==2.0.10 in c:\\users\\dell\\anaconda3\\lib\\site-packages (2.0.10)\n",
      "Requirement already satisfied: six>=1.9.0 in c:\\users\\dell\\anaconda3\\lib\\site-packages (from prompt_toolkit==2.0.10) (1.12.0)\n",
      "Requirement already satisfied: wcwidth in c:\\users\\dell\\anaconda3\\lib\\site-packages (from prompt_toolkit==2.0.10) (0.1.7)\n",
      "Note: you may need to restart the kernel to use updated packages.\n"
     ]
    }
   ],
   "source": [
    "\n"
   ]
  },
  {
   "cell_type": "code",
   "execution_count": 3,
   "metadata": {},
   "outputs": [
    {
     "ename": "ModuleNotFoundError",
     "evalue": "No module named 'PyInquirer'",
     "output_type": "error",
     "traceback": [
      "\u001b[1;31m---------------------------------------------------------------------------\u001b[0m",
      "\u001b[1;31mModuleNotFoundError\u001b[0m                       Traceback (most recent call last)",
      "\u001b[1;32m<ipython-input-3-40b2687f9a75>\u001b[0m in \u001b[0;36m<module>\u001b[1;34m\u001b[0m\n\u001b[0;32m      1\u001b[0m \u001b[1;32mfrom\u001b[0m \u001b[0m__future__\u001b[0m \u001b[1;32mimport\u001b[0m \u001b[0mprint_function\u001b[0m\u001b[1;33m,\u001b[0m \u001b[0municode_literals\u001b[0m\u001b[1;33m\u001b[0m\u001b[1;33m\u001b[0m\u001b[0m\n\u001b[1;32m----> 2\u001b[1;33m \u001b[1;32mfrom\u001b[0m \u001b[0mPyInquirer\u001b[0m \u001b[1;32mimport\u001b[0m \u001b[0mprompt\u001b[0m\u001b[1;33m,\u001b[0m \u001b[0mprint_json\u001b[0m\u001b[1;33m\u001b[0m\u001b[1;33m\u001b[0m\u001b[0m\n\u001b[0m\u001b[0;32m      3\u001b[0m \u001b[1;33m\u001b[0m\u001b[0m\n\u001b[0;32m      4\u001b[0m questions = [\n\u001b[0;32m      5\u001b[0m     {\n",
      "\u001b[1;31mModuleNotFoundError\u001b[0m: No module named 'PyInquirer'"
     ]
    }
   ],
   "source": []
  },
  {
   "cell_type": "code",
   "execution_count": 9,
   "metadata": {},
   "outputs": [
    {
     "name": "stdout",
     "output_type": "stream",
     "text": [
      "asd\n"
     ]
    }
   ],
   "source": [
    "print('asd')\n",
    "import json"
   ]
  },
  {
   "cell_type": "code",
   "execution_count": 199,
   "metadata": {},
   "outputs": [
    {
     "name": "stdout",
     "output_type": "stream",
     "text": [
      "as\n"
     ]
    }
   ],
   "source": [
    "print('as')\n",
    "sexo_mascota = ['hembra', 'macho']\n",
    "persona = {\n",
    "    'id': 0,\n",
    "    'nombre': '',\n",
    "    'cedula': '',\n",
    "    'fecha': '',\n",
    "    'direccion': '',\n",
    "    'mascotas': []\n",
    "}\n",
    "mascota = {\n",
    "    'id': 0,\n",
    "    'nombre': '',\n",
    "    'tipo': '',\n",
    "    'sexo': sexo_mascota[0],\n",
    "    'edadAproximada': ''\n",
    "}\n",
    "personas = []\n",
    "mascotas = []\n",
    "path_mascotas ='./mascotas.json'\n",
    "path_personas = './personas.json'\n"
   ]
  },
  {
   "cell_type": "code",
   "execution_count": 200,
   "metadata": {},
   "outputs": [
    {
     "name": "stdout",
     "output_type": "stream",
     "text": [
      "[{'nombre': 'any', 'cedula': '1716425671', 'fecha': '1996/12/26', 'direccion': '', 'id': 1}]\n",
      "[]\n",
      "0\n",
      "1\n"
     ]
    }
   ],
   "source": [
    "def abrir_archivo(path):\n",
    "    try:\n",
    "        with open(path_personas) as archivo_abierto:\n",
    "            contenido = json.load(archivo_abierto)\n",
    "        archivo_abierto.close()\n",
    "        return contenido\n",
    "    except Exception as error:\n",
    "        print(f'error en lectura {error}')\n",
    "\n",
    "def escribir_archivo(path, contenido):\n",
    "    try:\n",
    "        with open(path, 'w') as archivo_escritura:\n",
    "            json.dump(contenido, archivo_escritura, indent=4)\n",
    "        archivo_escritura.close()\n",
    "    except Exception as error:\n",
    "        print(f'error de escritura {error}')\n",
    "\n",
    "def inicializar_mascotas_personas():\n",
    "    personas.append(abrir_archivo(path_personas))\n",
    "    # mascotas.append(abrir_archivo(path_mascotas))\n",
    "\n",
    "inicializar_mascotas_personas()\n",
    "print(personas)\n",
    "print(mascotas)\n",
    "for persona in personas:\n",
    "    index = personas.index(persona)\n",
    "    print(index)\n",
    "print(len(personas))"
   ]
  },
  {
   "cell_type": "code",
   "execution_count": 12,
   "metadata": {},
   "outputs": [
    {
     "data": {
      "text/plain": [
       "[{'nombre': 'Analy',\n",
       "  'cedula': '1716425671',\n",
       "  'fecha': '1996/12/26',\n",
       "  'direccion': ''}]"
      ]
     },
     "execution_count": 12,
     "metadata": {},
     "output_type": "execute_result"
    }
   ],
   "source": [
    "def abrir_archivo(path):\n",
    "    try:\n",
    "        with open(path_personas) as archivo_abierto:\n",
    "            contenido = json.load(archivo_abierto)\n",
    "        archivo_abierto.close()\n",
    "        return contenido\n",
    "    except Exception as error:\n",
    "        print('error en lectura')\n",
    "\n",
    "abrir_archivo(path_personas)"
   ]
  },
  {
   "cell_type": "code",
   "execution_count": 11,
   "metadata": {},
   "outputs": [],
   "source": [
    "with open(path_personas) as archivo_abierto:\n",
    "    contenido = json.load(archivo_abierto)"
   ]
  },
  {
   "cell_type": "code",
   "execution_count": 206,
   "metadata": {},
   "outputs": [],
   "source": [
    "def guardar_persona(respuestas):\n",
    "\n",
    "    respuestas['id'] = len(personas)\n",
    "\n",
    "    personas.insert(0,respuestas)\n",
    "    print(personas)\n",
    "    escribir_archivo(path_personas, personas)\n",
    "    \n",
    "def buscar_persona(respuesta):\n",
    "    for persona in personas:\n",
    "        print(persona)\n",
    "        if (persona['nombre'] == respuesta['nombre']):\n",
    "            print(f\"{persona['nombre']} con {respuesta['nombre']}\")\n",
    "            return persona\n",
    "\n",
    "def eliminar_persona(respuesta):\n",
    "    persona = buscar_persona(respuesta)\n",
    "    if(persona):\n",
    "        print('eliminar')\n",
    "        personas.remove(persona)\n",
    "        escribir_archivo(path_personas, personas)\n",
    "    else:\n",
    "        return False\n",
    "                  \n",
    "def listar_personas():\n",
    "    for persona in personas:\n",
    "        print(f\"Nombre: {persona['nombre']}\")\n",
    "        print(f\"Fecha de nacimiento: {persona['fecha']}\")\n",
    "        print(f\"Cedula: {persona['cedula']}\")\n",
    "        print(f\"Direccion: {persona['direccion']}\")\n",
    "        print('Mascotas: ')\n",
    "        for mascota in persona['mascotas']:\n",
    "              print(buscar_mascota(mascota))"
   ]
  },
  {
   "cell_type": "code",
   "execution_count": 205,
   "metadata": {},
   "outputs": [],
   "source": [
    "def guardar_mascota(respuestas):\n",
    "    mascotas.insert(0,respuestas)\n",
    "    escribir_archivo(path_mascotas, mascotas)\n",
    "\n",
    "def buscar_mascota(respuesta):\n",
    "    for mascota in mascotas:\n",
    "        if (mascota['nombre'] == respuesta['nombre']):\n",
    "            # print(f\"{persona['nombre']} con {respuesta['nombre']}\")\n",
    "            return mascota\n",
    "\n",
    "def buscar_mascota_id(id):\n",
    "    for mascota in mascotas:\n",
    "        if (mascota['id'] == id):\n",
    "            # print(f\"{persona['nombre']} con {respuesta['nombre']}\")\n",
    "            return mascota\n",
    "\n",
    "def eliminar_mascota(respuesta):\n",
    "    mascota = buscar_mascota(respuesta)\n",
    "    if(mascota):\n",
    "        mascotas.remove(mascota)\n",
    "        escribir_archivo(path_mascotas, mascotas)\n",
    "    else:\n",
    "        return False"
   ]
  },
  {
   "cell_type": "code",
   "execution_count": 204,
   "metadata": {},
   "outputs": [
    {
     "name": "stdout",
     "output_type": "stream",
     "text": [
      "[{'nombre': 'martin', 'cedula': '1716425671', 'fecha': '1996/12/26', 'direccion': '', 'id': 3}, {'nombre': 'any', 'cedula': '1716425671', 'fecha': '1996/12/26', 'direccion': '', 'id': 2}, {'nombre': 'any', 'cedula': '1716425671', 'fecha': '1996/12/26', 'direccion': '', 'id': 1}, {'nombre': 'any', 'cedula': '1716425671', 'fecha': '1996/12/26', 'direccion': '', 'id': 1}]\n"
     ]
    }
   ],
   "source": [
    "# print(personas)\n",
    "guardar_persona({\n",
    "\"nombre\": \"martin\",\n",
    "\"cedula\": \"1716425671\",\n",
    "\"fecha\": \"1996/12/26\",\n",
    "\"direccion\": \"\"\n",
    "})\n",
    "# print(personas)"
   ]
  },
  {
   "cell_type": "code",
   "execution_count": 172,
   "metadata": {},
   "outputs": [
    {
     "name": "stdout",
     "output_type": "stream",
     "text": [
      "{'nombre': 'martin', 'cedula': '1716425671', 'fecha': '1996/12/26', 'direccion': ''}\n",
      "{'nombre': 'bely', 'cedula': '1716425671', 'fecha': '1996/12/26', 'direccion': ''}\n",
      "bely con bely\n",
      "eliminar\n",
      "[{'nombre': 'martin', 'cedula': '1716425671', 'fecha': '1996/12/26', 'direccion': ''}, {'nombre': 'any', 'cedula': '1716425671', 'fecha': '1996/12/26', 'direccion': ''}, {'nombre': 'meow', 'cedula': '1716425671', 'fecha': '1996/12/26', 'direccion': ''}, {'nombre': 'manchas', 'cedula': '1716425671', 'fecha': '1996/12/26', 'direccion': ''}]\n"
     ]
    }
   ],
   "source": [
    "eliminar_persona({\"nombre\": \"bely\"})\n",
    "print(personas)"
   ]
  },
  {
   "cell_type": "code",
   "execution_count": null,
   "metadata": {},
   "outputs": [],
   "source": []
  },
  {
   "cell_type": "code",
   "execution_count": null,
   "metadata": {},
   "outputs": [],
   "source": []
  }
 ],
 "metadata": {
  "kernelspec": {
   "display_name": "Python 3",
   "language": "python",
   "name": "python3"
  },
  "language_info": {
   "codemirror_mode": {
    "name": "ipython",
    "version": 3
   },
   "file_extension": ".py",
   "mimetype": "text/x-python",
   "name": "python",
   "nbconvert_exporter": "python",
   "pygments_lexer": "ipython3",
   "version": "3.7.4"
  }
 },
 "nbformat": 4,
 "nbformat_minor": 2
}
