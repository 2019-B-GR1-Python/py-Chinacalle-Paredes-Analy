{
 "cells": [
  {
   "cell_type": "code",
   "execution_count": null,
   "metadata": {},
   "outputs": [],
   "source": [
    "import numpy as np\n",
    "from scipy import ndimage\n",
    "from scipy import misc\n"
   ]
  },
  {
   "cell_type": "code",
   "execution_count": null,
   "metadata": {},
   "outputs": [],
   "source": [
    "mapache = misc.face()\n",
    "mapache"
   ]
  },
  {
   "cell_type": "code",
   "execution_count": null,
   "metadata": {},
   "outputs": [],
   "source": [
    "arr1, arr2 = np.vsplit(mapache, 2)\n",
    "arr3, arr4 = np.hsplit(arr1,2)\n",
    "arr5, arr6 = np.hsplit(arr2,2)\n",
    "matriz = []\n",
    "\n",
    "plt.imshow(arr3)\n",
    "plt.show()"
   ]
  },
  {
   "cell_type": "code",
   "execution_count": null,
   "metadata": {},
   "outputs": [],
   "source": [
    "fig, axs = plt.subplots(2,2)\n",
    "matriz = []\n",
    "matriz.append(axs[0,0].imshow(arr3))\n",
    "matriz.append(axs[0,1].imshow(arr4))\n",
    "matriz.append(axs[1,0].imshow(arr5))\n",
    "matriz.append(axs[1,1].imshow(arr6))\n",
    "\n",
    "plt.show()"
   ]
  },
  {
   "cell_type": "code",
   "execution_count": null,
   "metadata": {},
   "outputs": [],
   "source": [
    "orden_rompecabezas = []"
   ]
  }
 ],
 "metadata": {
  "kernelspec": {
   "display_name": "Python 3",
   "language": "python",
   "name": "python3"
  }
 },
 "nbformat": 4,
 "nbformat_minor": 2
}
