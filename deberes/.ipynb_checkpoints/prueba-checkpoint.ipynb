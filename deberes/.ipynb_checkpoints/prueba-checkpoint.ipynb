{
 "cells": [
  {
   "cell_type": "code",
   "execution_count": null,
   "metadata": {},
   "outputs": [],
   "source": []
  },
  {
   "cell_type": "code",
   "execution_count": null,
   "metadata": {},
   "outputs": [],
   "source": [
    "\n"
   ]
  },
  {
   "cell_type": "code",
   "execution_count": null,
   "metadata": {},
   "outputs": [],
   "source": []
  },
  {
   "cell_type": "code",
   "execution_count": null,
   "metadata": {},
   "outputs": [],
   "source": [
    "print('asd')\n",
    "import json"
   ]
  },
  {
   "cell_type": "code",
   "execution_count": null,
   "metadata": {},
   "outputs": [],
   "source": [
    "print('as')\n",
    "sexo_mascota = ['hembra', 'macho']\n",
    "persona = {\n",
    "    'id': 0,\n",
    "    'nombre': '',\n",
    "    'cedula': '',\n",
    "    'fecha': '',\n",
    "    'direccion': '',\n",
    "    'mascotas': []\n",
    "}\n",
    "mascota = {\n",
    "    'id': 0,\n",
    "    'nombre': '',\n",
    "    'tipo': '',\n",
    "    'sexo': sexo_mascota[0],\n",
    "    'edadAproximada': ''\n",
    "}\n",
    "personas = []\n",
    "mascotas = []\n",
    "path_mascotas ='./mascotas.json'\n",
    "path_personas = './personas.json'\n"
   ]
  },
  {
   "cell_type": "code",
   "execution_count": 5,
   "metadata": {},
   "outputs": [
    {
     "name": "stdout",
     "output_type": "stream",
     "text": [
      "[{'nombre': 'martin', 'cedula': '1716425671', 'fecha': '1996/12/26', 'direccion': '', 'id': 0}]\n",
      "[]\n",
      "0\n",
      "1\n"
     ]
    }
   ],
   "source": [
    "def abrir_archivo(path):\n",
    "    try:\n",
    "        with open(path_personas) as archivo_abierto:\n",
    "            contenido = json.load(archivo_abierto)\n",
    "        archivo_abierto.close()\n",
    "        return contenido\n",
    "    except Exception as error:\n",
    "        print(f'error en lectura {error}')\n",
    "\n",
    "def escribir_archivo(path, contenido):\n",
    "    try:\n",
    "        with open(path, 'w') as archivo_escritura:\n",
    "            json.dump(contenido, archivo_escritura, indent=4)\n",
    "        archivo_escritura.close()\n",
    "    except Exception as error:\n",
    "        print(f'error de escritura {error}')\n",
    "\n",
    "def inicializar_mascotas_personas():\n",
    "    personas.append(abrir_archivo(path_personas))\n",
    "    # mascotas.append(abrir_archivo(path_mascotas))\n",
    "\n",
    "inicializar_mascotas_personas()\n",
    "print(personas)\n",
    "print(mascotas)\n",
    "for persona in personas:\n",
    "    index = personas.index(persona)\n",
    "    print(index)\n",
    "print(len(personas))"
   ]
  },
  {
   "cell_type": "code",
   "execution_count": 12,
   "metadata": {},
   "outputs": [
    {
     "data": {
      "text/plain": [
       "[{'nombre': 'Analy',\n",
       "  'cedula': '1716425671',\n",
       "  'fecha': '1996/12/26',\n",
       "  'direccion': ''}]"
      ]
     },
     "execution_count": 12,
     "metadata": {},
     "output_type": "execute_result"
    }
   ],
   "source": [
    "def abrir_archivo(path):\n",
    "    try:\n",
    "        with open(path_personas) as archivo_abierto:\n",
    "            contenido = json.load(archivo_abierto)\n",
    "        archivo_abierto.close()\n",
    "        return contenido\n",
    "    except Exception as error:\n",
    "        print('error en lectura')\n",
    "\n",
    "abrir_archivo(path_personas)"
   ]
  },
  {
   "cell_type": "code",
   "execution_count": 11,
   "metadata": {},
   "outputs": [],
   "source": [
    "with open(path_personas) as archivo_abierto:\n",
    "    contenido = json.load(archivo_abierto)"
   ]
  },
  {
   "cell_type": "code",
   "execution_count": 6,
   "metadata": {},
   "outputs": [],
   "source": [
    "def guardar_persona(respuestas):\n",
    "\n",
    "    respuestas['id'] = len(personas)\n",
    "\n",
    "    personas.insert(0,respuestas)\n",
    "    print(personas)\n",
    "    escribir_archivo(path_personas, personas)\n",
    "    \n",
    "def buscar_persona(respuesta):\n",
    "    for persona in personas:\n",
    "        print(persona)\n",
    "        if (persona['nombre'] == respuesta['nombre']):\n",
    "            print(f\"{persona['nombre']} con {respuesta['nombre']}\")\n",
    "            return persona\n",
    "\n",
    "def eliminar_persona(respuesta):\n",
    "    persona = buscar_persona(respuesta)\n",
    "    if(persona):\n",
    "        print('eliminar')\n",
    "        personas.remove(persona)\n",
    "        escribir_archivo(path_personas, personas)\n",
    "    else:\n",
    "        return False\n",
    "                  \n",
    "def listar_personas():\n",
    "    for persona in personas:\n",
    "        print(f\"Nombre: {persona['nombre']}\")\n",
    "        print(f\"Fecha de nacimiento: {persona['fecha']}\")\n",
    "        print(f\"Cedula: {persona['cedula']}\")\n",
    "        print(f\"Direccion: {persona['direccion']}\")\n",
    "        print('Mascotas: ')\n",
    "        for mascota in persona['mascotas']:\n",
    "              print(buscar_mascota(mascota))"
   ]
  },
  {
   "cell_type": "code",
   "execution_count": 7,
   "metadata": {},
   "outputs": [],
   "source": [
    "def guardar_mascota(respuestas):\n",
    "    mascotas.insert(0,respuestas)\n",
    "    escribir_archivo(path_mascotas, mascotas)\n",
    "\n",
    "def buscar_mascota(respuesta):\n",
    "    for mascota in mascotas:\n",
    "        if (mascota['nombre'] == respuesta['nombre']):\n",
    "            # print(f\"{persona['nombre']} con {respuesta['nombre']}\")\n",
    "            return mascota\n",
    "\n",
    "def buscar_mascota_id(id):\n",
    "    for mascota in mascotas:\n",
    "        if (mascota['id'] == id):\n",
    "            # print(f\"{persona['nombre']} con {respuesta['nombre']}\")\n",
    "            return mascota\n",
    "\n",
    "def eliminar_mascota(respuesta):\n",
    "    mascota = buscar_mascota(respuesta)\n",
    "    if(mascota):\n",
    "        mascotas.remove(mascota)\n",
    "        escribir_archivo(path_mascotas, mascotas)\n",
    "    else:\n",
    "        return False"
   ]
  },
  {
   "cell_type": "code",
   "execution_count": 204,
   "metadata": {},
   "outputs": [
    {
     "name": "stdout",
     "output_type": "stream",
     "text": [
      "[{'nombre': 'martin', 'cedula': '1716425671', 'fecha': '1996/12/26', 'direccion': '', 'id': 3}, {'nombre': 'any', 'cedula': '1716425671', 'fecha': '1996/12/26', 'direccion': '', 'id': 2}, {'nombre': 'any', 'cedula': '1716425671', 'fecha': '1996/12/26', 'direccion': '', 'id': 1}, {'nombre': 'any', 'cedula': '1716425671', 'fecha': '1996/12/26', 'direccion': '', 'id': 1}]\n"
     ]
    }
   ],
   "source": [
    "# print(personas)\n",
    "guardar_persona({\n",
    "\"nombre\": \"martin\",\n",
    "\"cedula\": \"1716425671\",\n",
    "\"fecha\": \"1996/12/26\",\n",
    "\"direccion\": \"\"\n",
    "})\n",
    "# print(personas)"
   ]
  },
  {
   "cell_type": "code",
   "execution_count": 172,
   "metadata": {},
   "outputs": [
    {
     "name": "stdout",
     "output_type": "stream",
     "text": [
      "{'nombre': 'martin', 'cedula': '1716425671', 'fecha': '1996/12/26', 'direccion': ''}\n",
      "{'nombre': 'bely', 'cedula': '1716425671', 'fecha': '1996/12/26', 'direccion': ''}\n",
      "bely con bely\n",
      "eliminar\n",
      "[{'nombre': 'martin', 'cedula': '1716425671', 'fecha': '1996/12/26', 'direccion': ''}, {'nombre': 'any', 'cedula': '1716425671', 'fecha': '1996/12/26', 'direccion': ''}, {'nombre': 'meow', 'cedula': '1716425671', 'fecha': '1996/12/26', 'direccion': ''}, {'nombre': 'manchas', 'cedula': '1716425671', 'fecha': '1996/12/26', 'direccion': ''}]\n"
     ]
    }
   ],
   "source": [
    "eliminar_persona({\"nombre\": \"bely\"})\n",
    "print(personas)"
   ]
  },
  {
   "cell_type": "code",
   "execution_count": null,
   "metadata": {},
   "outputs": [],
   "source": [
    "def respuesta_menu_principal(opcion,respuesta):\n",
    "    def opcion_seleccionada():\n",
    "        opciones = {\n",
    "            'crear': guardar_persona(respuesta),\n",
    "            'buscar': buscar_persona(respuesta),\n",
    "            'listar': listar_personas(),\n",
    "            'eliminar': eliminar_persona(respuesta)\n",
    "        }\n",
    "        return opciones[opcion]\n",
    "\n",
    "def respuesta_submenu_persona(opcion):\n",
    "    def opcion_seleccionada():\n",
    "        opciones = {\n",
    "            'editar': '',\n",
    "            'menu-mascota': menu_mascota()\n",
    "        }\n",
    "        return opciones[opcion]\n",
    "def respuesta_menu_mascota(opcion, respuesta):\n",
    "    def opcion_seleccionada():\n",
    "        opciones = {\n",
    "            'crear': guardar_mascota(respuesta),\n",
    "            'editar': '',\n",
    "            'buscar': buscar_mascota(respuesta),\n",
    "            'eliminar': eliminar_mascota(respuesta)\n",
    "        }\n",
    "        return opciones[opcion]\n",
    "    \n",
    "menu_principal = {\n",
    "    'Crear'\n",
    "}"
   ]
  },
  {
   "cell_type": "code",
   "execution_count": null,
   "metadata": {},
   "outputs": [],
   "source": [
    "print('Menu: ̣\\n 1. Crear persona \\n 2. Buscar persona \\n 3. Listar \\n 4. Eliminar')\n"
   ]
  },
  {
   "cell_type": "code",
   "execution_count": null,
   "metadata": {},
   "outputs": [],
   "source": []
  },
  {
   "cell_type": "code",
   "execution_count": null,
   "metadata": {},
   "outputs": [],
   "source": []
  }
 ],
 "metadata": {
  "kernelspec": {
   "display_name": "Python 3",
   "language": "python",
   "name": "python3"
  },
  "language_info": {
   "codemirror_mode": {
    "name": "ipython",
    "version": 3
   },
   "file_extension": ".py",
   "mimetype": "text/x-python",
   "name": "python",
   "nbconvert_exporter": "python",
   "pygments_lexer": "ipython3",
   "version": "3.7.1"
  }
 },
 "nbformat": 4,
 "nbformat_minor": 2
}
