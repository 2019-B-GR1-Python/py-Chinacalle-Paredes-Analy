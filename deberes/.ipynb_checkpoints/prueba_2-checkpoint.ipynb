{
 "cells": [
  {
   "cell_type": "code",
   "execution_count": null,
   "metadata": {},
   "outputs": [],
   "source": [
    "import numpy as np\n",
    "from scipy import ndimage\n",
    "from scipy import misc\n",
    "import matplotlib.pyplot as plt\n",
    "import random\n",
    "\n",
    "matriz = []\n",
    "matriz_original = []\n",
    "\n",
    "def matriz_inicial(arr3, arr4, arr5, arr6):\n",
    "    fig, axs = plt.subplots(2,2)\n",
    "    axs[0,0].imshow(arr3)\n",
    "    axs[0,1].imshow(arr4)\n",
    "    axs[1,0].imshow(arr5)\n",
    "    axs[1,1].imshow(arr6)\n",
    "    matriz.append(arr3)\n",
    "    matriz.append(arr4)\n",
    "    matriz.append(arr5)\n",
    "    matriz.append(arr6)\n",
    "\n",
    "    matriz_original = matriz\n",
    "\n",
    "def iniciar():\n",
    "    mapache = misc.face()\n",
    "    arr1, arr2 = np.vsplit(mapache, 2)\n",
    "    arr3, arr4 = np.hsplit(arr1,2)\n",
    "    arr5, arr6 = np.hsplit(arr2,2)\n",
    "    matriz_inicial(arr3, arr4, arr5, arr6)\n",
    "    \n",
    "\n",
    "\n",
    "def mezclar():\n",
    "    return random.shuffle(matriz)\n",
    "\n",
    "def mostrar_imagen():\n",
    "    fig, axs = plt.subplots(2,2)\n",
    "    (axs[0,0].imshow(matriz[0]))\n",
    "    (axs[0,1].imshow(matriz[1]))\n",
    "    (axs[1,0].imshow(matriz[2]))\n",
    "    (axs[1,1].imshow(matriz[3]))\n",
    "\n",
    "    plt.show()\n",
    "    \n",
    "def mover_piezas():\n",
    "    movimiento = input()\n",
    "    indice1, indice2 = movimiento.split(\",\")\n",
    "    auxiliar_matriz = matriz[int(indice1)-1]\n",
    "    matriz[int(indice1)-1] = matriz[int(indice2)-1]\n",
    "    matriz[int(indice2)-1] = auxiliar_matriz\n",
    "    mostrar_imagen()\n",
    "    return matriz\n",
    "\n",
    "def juego():\n",
    "    iniciar()\n",
    "    mostrar_imagen()\n",
    "    mezclar()\n",
    "    if matriz == matriz_original:\n",
    "        matriz = mezclar()\n",
    "    else:\n",
    "        while matriz != matriz_original:\n",
    "            # print(matriz)\n",
    "            # print(matriz_original)\n",
    "            mover_piezas()\n",
    "\n",
    "        "
   ]
  },
  {
   "cell_type": "code",
   "execution_count": null,
   "metadata": {},
   "outputs": [],
   "source": []
  },
  {
   "cell_type": "code",
   "execution_count": null,
   "metadata": {},
   "outputs": [],
   "source": [
    "juego()"
   ]
  },
  {
   "cell_type": "code",
   "execution_count": null,
   "metadata": {},
   "outputs": [],
   "source": []
  },
  {
   "cell_type": "code",
   "execution_count": null,
   "metadata": {},
   "outputs": [],
   "source": []
  }
 ],
 "metadata": {
  "kernelspec": {
   "display_name": "Python 3",
   "language": "python",
   "name": "python3"
  },
  "language_info": {
   "codemirror_mode": {
    "name": "ipython",
    "version": 3
   },
   "file_extension": ".py",
   "mimetype": "text/x-python",
   "name": "python",
   "nbconvert_exporter": "python",
   "pygments_lexer": "ipython3",
   "version": "3.7.4"
  }
 },
 "nbformat": 4,
 "nbformat_minor": 2
}
